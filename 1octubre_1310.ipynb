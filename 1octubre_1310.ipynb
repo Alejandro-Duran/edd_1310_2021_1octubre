{
  "nbformat": 4,
  "nbformat_minor": 0,
  "metadata": {
    "colab": {
      "name": "1octubre_1310.ipynb",
      "provenance": [],
      "authorship_tag": "ABX9TyMgHcrYuSq/Xt5q5MUKtid0",
      "include_colab_link": true
    },
    "kernelspec": {
      "name": "python3",
      "display_name": "Python 3"
    }
  },
  "cells": [
    {
      "cell_type": "markdown",
      "metadata": {
        "id": "view-in-github",
        "colab_type": "text"
      },
      "source": [
        "<a href=\"https://colab.research.google.com/github/Alejandro-Duran/edd_1310_2021_1octubre/blob/main/1octubre_1310.ipynb\" target=\"_parent\"><img src=\"https://colab.research.google.com/assets/colab-badge.svg\" alt=\"Open In Colab\"/></a>"
      ]
    },
    {
      "cell_type": "markdown",
      "metadata": {
        "id": "KL8IVe8c7q_o"
      },
      "source": [
        "## Intro python\n",
        "### Variables\n",
        "tipo dinamico\n",
        "escuela= \"FES Aragón\"\n",
        "\n"
      ]
    },
    {
      "cell_type": "code",
      "metadata": {
        "id": "4ubsyRbW8K3Y"
      },
      "source": [
        "escuela=\"FES Argón\"\n",
        "print (escuela)\n",
        "print(\"-------\")\n",
        "edad = 13\n",
        "estatura = 1.67\n",
        "fumador = True\n",
        "frase = \"\"\"Esta es\n",
        "una frase de multiples\n",
        "lideas y tambien es un \n",
        "tipo de dato\"\"\"\n",
        "print(frase)\n",
        "\n",
        "nombre= 'Jose'\n",
        "nombre_completo=\"Jose Sosa Crdenas\""
      ],
      "execution_count": null,
      "outputs": []
    },
    {
      "cell_type": "markdown",
      "metadata": {
        "id": "TAAMlwNp91Ys"
      },
      "source": [
        "#Print \n",
        "con comas ,\n",
        "\n",
        "con signo +\n",
        "\n",
        "con format()\n",
        "\n",
        "con el operador f'''"
      ]
    },
    {
      "cell_type": "code",
      "metadata": {
        "id": "2CDBoszc-HdF"
      },
      "source": [
        "# la coma es para imprimir masde una variable\n",
        "print(nombre,edad)"
      ],
      "execution_count": null,
      "outputs": []
    },
    {
      "cell_type": "code",
      "metadata": {
        "id": "d9i4-xCH_N52"
      },
      "source": [
        "#el + es para concatenar, pero debes especificar a que tipo de dato en str\n",
        "print(nombre + str(edad))\n",
        "print(nombre + nombre_completo)#snake case:estilo de nombrar las variables en python"
      ],
      "execution_count": null,
      "outputs": []
    },
    {
      "cell_type": "code",
      "metadata": {
        "id": "Z_zeLJmSAMDA"
      },
      "source": [
        "#con formato -> Su nombre es jose y su edad es 13 años.\n",
        "print(\"Su nombre es \"+nombre+\" y su edad es de \"+str(edad)+\" años.\")\n",
        "print (\"Su nombre es {} y su edad es de {} años.\".format(nombre,edad))"
      ],
      "execution_count": null,
      "outputs": []
    },
    {
      "cell_type": "code",
      "metadata": {
        "id": "Cvr51EO7BtB6"
      },
      "source": [
        "# Con formato con el operador f\"\"\n",
        "# es una adecuación que sirve para dar la instucción de imprimir de manera mas sencilla \n",
        "print (f\"Su nombre es {nombre} y su edad es de {edad} años.\")"
      ],
      "execution_count": null,
      "outputs": []
    },
    {
      "cell_type": "markdown",
      "metadata": {
        "id": "FDgzwBolCNL1"
      },
      "source": [
        "# Caracter de escape\n",
        "\\n salto de linea\n",
        "\n",
        "\\t tabulador\n",
        "\n",
        "\\a suelta un beep\n",
        "\n",
        "\\\\\" imprimir comilla doble\n",
        "\n",
        "\\\\' imprimir comilla simple"
      ]
    },
    {
      "cell_type": "code",
      "metadata": {
        "id": "IenpmJlYDAJI"
      },
      "source": [
        "\"\"\"\n",
        "Esto es un comentario de \n",
        "multiple lines\n",
        "\"\"\"\n",
        "print(f\"\\tMi nonbre es\\n\\t\\t {nombre}\")"
      ],
      "execution_count": null,
      "outputs": []
    },
    {
      "cell_type": "markdown",
      "metadata": {
        "id": "777XY9RRDqjY"
      },
      "source": [
        "# Ayuda de tipos de datos en python\n",
        "dir()\n",
        "\n",
        "help()"
      ]
    },
    {
      "cell_type": "code",
      "metadata": {
        "id": "2KKLV4WAEKHT"
      },
      "source": [
        "# str, int, float, bool... list, dict, set\n",
        "help(str)"
      ],
      "execution_count": null,
      "outputs": []
    },
    {
      "cell_type": "code",
      "metadata": {
        "id": "VsJXBo7zFZIx"
      },
      "source": [
        "print (nombre_completo.capitalize())\n",
        "print (nombre_completo.upper(),end=\"-----\")# end evita el salto de linea\n",
        "print (nombre_completo.title())"
      ],
      "execution_count": null,
      "outputs": []
    },
    {
      "cell_type": "code",
      "metadata": {
        "id": "v97VoocBF_eC"
      },
      "source": [
        "help(print)"
      ],
      "execution_count": null,
      "outputs": []
    },
    {
      "cell_type": "markdown",
      "metadata": {
        "id": "u4jIwfwbGoXu"
      },
      "source": [
        "# Clase String\n",
        "Es manejada como un arreglo (en c o java) o losta (en python)\n",
        "\n",
        "'telefono=\"Huawei mate 30 pr0\"'"
      ]
    },
    {
      "cell_type": "code",
      "metadata": {
        "id": "IVzNuCWDH1Rc"
      },
      "source": [
        "telefono=\"Huawei mate 30 pro\"\n",
        "print (telefono[5])"
      ],
      "execution_count": null,
      "outputs": []
    },
    {
      "cell_type": "markdown",
      "metadata": {
        "id": "x_qE5VA6IHbw"
      },
      "source": [
        "# Slicing (rebanado)\n",
        "[inicio:stot:incremento]"
      ]
    },
    {
      "cell_type": "code",
      "metadata": {
        "id": "S0-9EwmqIcDf"
      },
      "source": [
        "print(telefono[7:11:1])\n",
        "# el inicio y el incremento son opcionales\n",
        "print(telefono[:11])\n",
        "#el valor por defecto de stop es el tamaño de la cadena\n",
        "print (telefono [::])\n",
        "#incremento negativo\n",
        "print(telefono[::-1])\n",
        "#\n",
        "print(telefono[-3::1])"
      ],
      "execution_count": null,
      "outputs": []
    },
    {
      "cell_type": "markdown",
      "metadata": {
        "id": "Uem1dzkWNJhK"
      },
      "source": [
        "#Funciones de String\n",
        "\n",
        "Existen metodos muy utiles en esta clase."
      ]
    },
    {
      "cell_type": "code",
      "metadata": {
        "id": "QxNVqxt8NUpC",
        "outputId": "5b6988c9-04bc-42f5-d461-ff3af4677637",
        "colab": {
          "base_uri": "https://localhost:8080/",
          "height": 340
        }
      },
      "source": [
        "facultad=\"     facultad de estudios superiores aragon     \\n\"\n",
        "print(facultad)\n",
        "print (len(facultad))# tamaño del arreglo\n",
        "print (facultad.count(\"u\"))#cuenta el numero de elementos de una lista\n",
        "print (facultad.find(\"s\"))\n",
        "print (facultad.strip())#quita los espacios enblanco al inicio y al final, tambien quita los saltos de línea\n",
        "print(facultad)\n",
        "print (facultad.strip().split(\" \"))# partir una cadena en base de un caracter en especial\n",
        "print (\"------------\")\n",
        "#copiar cadena\n",
        "otra_cadena = facultad\n",
        "print(otra_cadena)\n",
        "facultad=(\"fes aragon\")\n",
        "print(facultad)\n",
        "print(otra_cadena)\n",
        "\n",
        "#copiar listas\n",
        "colores = [\"rojo\",\"verde\"]\n",
        "otra = colores.copy()\n",
        "print(colores)\n",
        "print(otra)\n",
        "otra.append('rosa')\n",
        "print(colores)\n",
        "print(otra)\n"
      ],
      "execution_count": 58,
      "outputs": [
        {
          "output_type": "stream",
          "text": [
            "     facultad de estudios superiores aragon     \n",
            "\n",
            "49\n",
            "3\n",
            "18\n",
            "facultad de estudios superiores aragon\n",
            "     facultad de estudios superiores aragon     \n",
            "\n",
            "['facultad', 'de', 'estudios', 'superiores', 'aragon']\n",
            "------------\n",
            "     facultad de estudios superiores aragon     \n",
            "\n",
            "fes aragon\n",
            "     facultad de estudios superiores aragon     \n",
            "\n",
            "['rojo', 'verde']\n",
            "['rojo', 'verde']\n",
            "['rojo', 'verde']\n",
            "['rojo', 'verde', 'rosa']\n"
          ],
          "name": "stdout"
        }
      ]
    }
  ]
}